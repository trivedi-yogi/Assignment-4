{
 "cells": [
  {
   "cell_type": "markdown",
   "id": "9468777f",
   "metadata": {},
   "source": [
    "## Question 1\n",
    "Play with Lambda"
   ]
  },
  {
   "cell_type": "code",
   "execution_count": 10,
   "id": "c7d1eaaf",
   "metadata": {},
   "outputs": [
    {
     "data": {
      "text/plain": [
       "35"
      ]
     },
     "execution_count": 10,
     "metadata": {},
     "output_type": "execute_result"
    }
   ],
   "source": [
    "#Write a Python program to create a lambda function that adds 25 to a given number passed in as an argument.\n",
    "fun1 = lambda x : x+25\n",
    "fun1(10)"
   ]
  },
  {
   "cell_type": "markdown",
   "id": "ee3213d6",
   "metadata": {},
   "source": [
    "## Question 2\n",
    "Find the way with Maps"
   ]
  },
  {
   "cell_type": "code",
   "execution_count": 4,
   "id": "879904fa",
   "metadata": {},
   "outputs": [
    {
     "name": "stdout",
     "output_type": "stream",
     "text": [
      "Enter Integer Numbers separated by comma :: 1,2,3,4,5,6,7,8,9\n",
      "List with trippled elements ::  [3, 6, 9, 12, 15, 18, 21, 24, 27]\n"
     ]
    }
   ],
   "source": [
    "# Write a Python program to triple all numbers of a given list of integers. Use Python map.\n",
    "list1 = list(map(int,input(\"Enter Integer Numbers separated by comma :: \").split(',')))\n",
    "trippled = list(map(lambda x : x*3,list1))\n",
    "print(\"List with trippled elements :: \",trippled)"
   ]
  },
  {
   "cell_type": "markdown",
   "id": "2c678505",
   "metadata": {},
   "source": [
    "## Question 3\n",
    "Find the Squares from the given List"
   ]
  },
  {
   "cell_type": "code",
   "execution_count": 6,
   "id": "81bddd53",
   "metadata": {},
   "outputs": [
    {
     "name": "stdout",
     "output_type": "stream",
     "text": [
      "Enter Integer Numbers separated by comma :: 4,5,6,7\n",
      "List with squared elements ::  [16, 25, 36, 49]\n"
     ]
    }
   ],
   "source": [
    "# Write a Python program to square the elements of a list using map() function.\n",
    "list2 = list(map(int,input(\"Enter Integer Numbers separated by comma :: \").split(',')))\n",
    "squared = list(map(lambda x : x**2,list2))\n",
    "print(\"List with squared elements :: \",squared)"
   ]
  },
  {
   "cell_type": "code",
   "execution_count": null,
   "id": "8a4e73c5",
   "metadata": {},
   "outputs": [],
   "source": []
  }
 ],
 "metadata": {
  "kernelspec": {
   "display_name": "Python 3",
   "language": "python",
   "name": "python3"
  },
  "language_info": {
   "codemirror_mode": {
    "name": "ipython",
    "version": 3
   },
   "file_extension": ".py",
   "mimetype": "text/x-python",
   "name": "python",
   "nbconvert_exporter": "python",
   "pygments_lexer": "ipython3",
   "version": "3.8.8"
  }
 },
 "nbformat": 4,
 "nbformat_minor": 5
}
